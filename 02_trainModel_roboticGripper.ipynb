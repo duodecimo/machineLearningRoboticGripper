{
 "cells": [
  {
   "cell_type": "markdown",
   "metadata": {},
   "source": [
    "# ROBOTIC GRIPPER\n",
    "\n",
    "## A Robotic Gripper Operated by Gestures Learned Trough DeepLearning\n",
    "\n",
    "## Phase 2 Implementation: Building and Training the Model"
   ]
  },
  {
   "cell_type": "markdown",
   "metadata": {},
   "source": [
    "This project allows a user to control a robotic gripper using gestures captured by a webcam."
   ]
  },
  {
   "cell_type": "markdown",
   "metadata": {},
   "source": [
    "## 1 - How does it works\n",
    "\n",
    "The project is diveded in 3 main phases, in order to fulfill user requests:\n",
    "\n",
    "- Phase 1: Images must be captured from the webcam to compound a labeled gestures dataset.\n",
    "  The dataset will feed trainning and testing datasets to be used in supervised learning.\n",
    "    \n",
    "- Phase 2: A deep learning model, basically a neural network, will be created and used to train the gestures recognition, using keras and tensorflow.\n",
    "    \n",
    "- Phase 3: A program will be used to sequentially capture webcam images.\n",
    "  The images will be classifyed by the model trainned in Phase 2, and the result will be used to operate the robotic gripper.\n",
    "  \n",
    "    \n",
    "**This notebook implements the phase 2 of the project, there are two other notebooks to be executed, one before and other after this one.**"
   ]
  },
  {
   "cell_type": "code",
   "execution_count": null,
   "metadata": {},
   "outputs": [],
   "source": [
    "%load_ext autoreload\n",
    "%autoreload 2"
   ]
  },
  {
   "cell_type": "markdown",
   "metadata": {},
   "source": [
    "## 2 - Build the Model and train it using the captured gestures data from the first phase\n",
    "\n",
    "We are going to build our [deep learning](https://en.wikipedia.org/wiki/Deep_learning) robotic gripper gesture commands model using [Keras](https://keras.io/) and [TensorFlow](https://www.tensorflow.org/)."
   ]
  },
  {
   "cell_type": "markdown",
   "metadata": {},
   "source": [
    "### Packages"
   ]
  },
  {
   "cell_type": "code",
   "execution_count": null,
   "metadata": {},
   "outputs": [],
   "source": [
    "#imports\n",
    "\n",
    "import pandas as pd\n",
    "import numpy as np\n",
    "from keras.models import Sequential\n",
    "from keras.optimizers import Adam\n",
    "from keras.callbacks import ModelCheckpoint\n",
    "from keras.layers import Lambda, Conv2D, MaxPooling2D, Dropout, Dense, Flatten\n",
    "from keras.callbacks import TensorBoard\n",
    "from sklearn.model_selection import train_test_split\n",
    "from utils import INPUT_SHAPE, batch_generator\n",
    "import os\n",
    "import cv2\n",
    "import sys\n",
    "\n",
    "np.random.seed(0)"
   ]
  },
  {
   "cell_type": "markdown",
   "metadata": {},
   "source": [
    "The function **load_images_from_path** is auxiliary to the function **load_data**."
   ]
  },
  {
   "cell_type": "code",
   "execution_count": null,
   "metadata": {},
   "outputs": [],
   "source": [
    "'''\n",
    "    load_images_from_path\n",
    "'''\n",
    "def load_images_from_path(path, result, images, results):\n",
    "    for filename in os.listdir(path):\n",
    "      img = os.path.join(path,filename)\n",
    "      if img is not None:\n",
    "        images.append(img)\n",
    "        results.append(result)\n",
    "    return images, results"
   ]
  },
  {
   "cell_type": "code",
   "execution_count": null,
   "metadata": {},
   "outputs": [],
   "source": [
    "def load_data():\n",
    "  images = []\n",
    "  results =[]\n",
    "  labels = ['nothing', 'left', 'right', 'grip', 'loose', 'foward', 'back', 'up', 'down']\n",
    "\n",
    "  #load a list of images and a corresponding list of results (images=640x480)\n",
    "  images, results = load_images_from_path('capture/nothing/', 0, images, results)\n",
    "  images, results = load_images_from_path('capture/left/', 1, images, results)\n",
    "  images, results = load_images_from_path('capture/right/', 2, images, results)\n",
    "  images, results = load_images_from_path('capture/grip/', 3, images, results)\n",
    "  images, results = load_images_from_path('capture/loose/', 4, images, results)\n",
    "  images, results = load_images_from_path('capture/foward/', 5, images, results)\n",
    "  images, results = load_images_from_path('capture/back/', 6, images, results)\n",
    "  images, results = load_images_from_path('capture/up/', 7, images, results)\n",
    "  images, results = load_images_from_path('capture/down/', 8, images, results)\n",
    "\n",
    "  X_train, X_valid, y_train, y_valid = train_test_split(images, results, test_size=0.2, shuffle = True, random_state=0)\n",
    "\n",
    "  return X_train, X_valid, y_train, y_valid"
   ]
  },
  {
   "cell_type": "code",
   "execution_count": null,
   "metadata": {},
   "outputs": [],
   "source": [
    "X_train, X_valid, y_train, y_valid = load_data()\n",
    "\n",
    "print(\"Train Images: \", len(X_train))\n",
    "print(\"Valid Images: \", len(X_valid))\n",
    "print(\"Train Results: \", len(y_train))\n",
    "print(\"Valid Results: \", len(y_valid))\n",
    "\n",
    "# if we wish to check some of the images, just change de index value\n",
    "# note that the index can't be bigger than the number of images -1\n",
    "#cv2.imshow('Capture', cv2.imread(X_train[80]))\n",
    "#print(X_train[80])\n",
    "#print(labels[results[80]])\n",
    "#cv2.waitKey(0)\n",
    "#cv2.destroyAllWindows()\n",
    "#sys.exit(0)\n"
   ]
  },
  {
   "cell_type": "code",
   "execution_count": null,
   "metadata": {},
   "outputs": [],
   "source": [
    "def build_model(keep_prob):\n",
    "    \"\"\"\n",
    "    Modified NVIDIA model\n",
    "    \"\"\"\n",
    "    model = Sequential()\n",
    "    model.add(Lambda(lambda x: x/127.5-1.0, input_shape=INPUT_SHAPE))\n",
    "    model.add(Conv2D(24, 5, 5, activation='elu', subsample=(2, 2)))\n",
    "    model.add(Conv2D(36, 5, 5, activation='elu', subsample=(2, 2)))\n",
    "    model.add(Conv2D(48, 5, 5, activation='elu', subsample=(2, 2)))\n",
    "    model.add(Conv2D(64, 3, 3, activation='elu'))\n",
    "    model.add(Conv2D(64, 3, 3, activation='elu'))\n",
    "    model.add(Dropout(keep_prob))\n",
    "    model.add(Flatten())\n",
    "    model.add(Dense(100, activation='elu'))\n",
    "    model.add(Dense(50, activation='elu'))\n",
    "    model.add(Dense(10, activation='elu'))\n",
    "    # let's change from Dense(1) to Dense(9, activation='softmax')\n",
    "    # where 9 is the number of classes and softmax can be understood\n",
    "    #here: https://en.wikipedia.org/wiki/Softmax_function\n",
    "    # model.add(Dense(1))\n",
    "    model.add(Dense(9, activation='softmax'))\n",
    "    model.summary()\n",
    "\n",
    "    return model"
   ]
  },
  {
   "cell_type": "markdown",
   "metadata": {},
   "source": [
    "Let's build the model."
   ]
  },
  {
   "cell_type": "code",
   "execution_count": null,
   "metadata": {},
   "outputs": [],
   "source": [
    "keep_prob = 0.5\n",
    "model = build_model(keep_prob)"
   ]
  },
  {
   "cell_type": "code",
   "execution_count": null,
   "metadata": {},
   "outputs": [],
   "source": [
    "def train_model(model, psave_best_only, learning_rate, samples_per_epoch, nb_epoch, batch_size, X_train, X_valid, y_train, y_valid):\n",
    "    \"\"\"\n",
    "    Train the model\n",
    "    \"\"\"\n",
    "    checkpoint = ModelCheckpoint('model-{epoch:03d}.h5',\n",
    "                                 monitor='val_loss',\n",
    "                                 verbose=0,\n",
    "                                 save_best_only=psave_best_only,\n",
    "                                 mode='auto')\n",
    "\n",
    "    #model.compile(loss='mean_squared_error', optimizer=Adam(lr=learning_rate))\n",
    "    model.compile(loss='categorical_crossentropy', optimizer=Adam(lr=learning_rate), metrics=['accuracy'])\n",
    "    \n",
    "    #model.fit_generator(batch_generator(X_train, y_train, batch_size, True),\n",
    "    #                    samples_per_epoch,\n",
    "    #                    nb_epoch,\n",
    "    #                    max_q_size=1,\n",
    "    #                    validation_data = batch_generator(X_valid, y_valid, batch_size, False),\n",
    "    #                    nb_val_samples=len(X_valid),\n",
    "    #                    callbacks=[checkpoint],\n",
    "    #                    verbose=1)\n",
    "    \n",
    "    # adding a tensorboard callback\n",
    "    model.fit_generator(batch_generator(X_train, y_train, batch_size, True),\n",
    "                        samples_per_epoch,\n",
    "                        nb_epoch,\n",
    "                        max_q_size=1,\n",
    "                        validation_data = batch_generator(X_valid, y_valid, batch_size, False),\n",
    "                        nb_val_samples=len(X_valid),\n",
    "                        callbacks=[checkpoint, \n",
    "                                   TensorBoard(log_dir='./logs/tensorboard')],\n",
    "                        verbose=1)\n"
   ]
  },
  {
   "cell_type": "markdown",
   "metadata": {},
   "source": [
    "Let's train the model.\n",
    "As a result, files named like **model-000.h5**, **model-003.h5**, and so on will be saved on the project folder.\n",
    "Those files are trainned models that can be used later to classify the gestures.\n",
    "The numbers on their names are meaningfull:\n",
    "At the end of each epoch run, a loss value is obtainned. If it is the first epoch, the file numbered 000 is recorded. If not, if it beats the lower (less is better here!) loss value obtainned in the former epochs, a file with the model will be saved. The numbers are just epoch -1.\n",
    "Thus, by the end of the run, the best model obtainned will be the one with the highest number on it's name.\n",
    "By the other hand, if the value of parameter **psave_best_only** passed to the funcion **train_model** is false, all epochs will be saved. In this case, there is no indication witch was the best result on the files themselves, so, the user have to take note of the run, and observe the orders of losses values picking the lowest as the best model."
   ]
  },
  {
   "cell_type": "code",
   "execution_count": null,
   "metadata": {},
   "outputs": [],
   "source": [
    "psave_best_only = True\n",
    "learning_rate = 1.0e-4\n",
    "samples_per_epoch = 20000\n",
    "nb_epoch = 10\n",
    "batch_size = 40\n",
    "train_model(model, psave_best_only, learning_rate, samples_per_epoch, nb_epoch, batch_size, \n",
    "            X_train, X_valid, y_train, y_valid)"
   ]
  },
  {
   "cell_type": "markdown",
   "metadata": {},
   "source": [
    "Let's define a function to open a tensorboard view. (or you can call in a terminal After Training the model, run tensorboard --logdir=./logs/tensorboard)"
   ]
  },
  {
   "cell_type": "code",
   "execution_count": null,
   "metadata": {},
   "outputs": [],
   "source": [
    "def TB(cleanup=False):\n",
    "    import webbrowser\n",
    "    webbrowser.open('http://127.0.1.1:6006')\n",
    "\n",
    "    !tensorboard --logdir=\"logs\"\n",
    "\n",
    "    if cleanup:\n",
    "        !rm -R logs/"
   ]
  },
  {
   "cell_type": "code",
   "execution_count": null,
   "metadata": {},
   "outputs": [],
   "source": [
    "TB(1)"
   ]
  },
  {
   "cell_type": "markdown",
   "metadata": {},
   "source": [
    "This is the end of this notebook.\n",
    "Now you should have one or more models saved on your project path.\n",
    "One trick is to save models that did good in some models backup folders, as model files are all that is needed to run the phase 3 notebook, and in other phase 2 runs they can be overwritten by weaker models.\n",
    "Next, we want to operate the gripper using our model to recognize commands that we will send making gestures in front of the webcam.\n",
    "This will be the task of the next notebook, **03_operation_roboticGripper**."
   ]
  },
  {
   "cell_type": "markdown",
   "metadata": {},
   "source": [
    "by Duodecimo, 2017, Dezember."
   ]
  }
 ],
 "metadata": {
  "kernelspec": {
   "display_name": "Python 3",
   "language": "python",
   "name": "python3"
  },
  "language_info": {
   "codemirror_mode": {
    "name": "ipython",
    "version": 3
   },
   "file_extension": ".py",
   "mimetype": "text/x-python",
   "name": "python",
   "nbconvert_exporter": "python",
   "pygments_lexer": "ipython3",
   "version": "3.5.2"
  },
  "widgets": {
   "state": {},
   "version": "1.1.2"
  }
 },
 "nbformat": 4,
 "nbformat_minor": 2
}
