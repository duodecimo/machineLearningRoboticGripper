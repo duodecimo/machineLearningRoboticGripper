{
 "cells": [
  {
   "cell_type": "markdown",
   "metadata": {},
   "source": [
    "# ROBOTIC GRIPPER\n",
    "\n",
    "## A Robotic Gripper Operated by Gestures Learned Trough DeepLearning\n",
    "\n",
    "## Phase 3 Implementation: Using the Model to Operate the Gripper Using Gestures"
   ]
  },
  {
   "cell_type": "markdown",
   "metadata": {},
   "source": [
    "This project allows a user to control a robotic gripper using gestures captured by a webcam."
   ]
  },
  {
   "cell_type": "markdown",
   "metadata": {},
   "source": [
    "## 1 - How does it works\n",
    "\n",
    "The project is diveded in 3 main phases, in order to fulfill user requests:\n",
    "\n",
    "- Phase 1: Images must be captured from the webcam to compound a labeled gestures dataset.\n",
    "  The dataset will feed trainning and testing datasets to be used in supervised learning.\n",
    "    \n",
    "- Phase 2: A deep learning model, basically a neural network, will be created and used to train the gestures recognition, using keras and tensorflow.\n",
    "    \n",
    "- Phase 3: A program will be used to sequentially capture webcam images.\n",
    "  The images will be classifyed by the model trainned in Phase 2, and the result will be used to operate the robotic gripper.\n",
    "  \n",
    "  **This notebook implements the phase 3 of the project, there are two other notebooks to be executed before  this one.**"
   ]
  },
  {
   "cell_type": "code",
   "execution_count": 1,
   "metadata": {},
   "outputs": [],
   "source": [
    "%load_ext autoreload\n",
    "%autoreload 2"
   ]
  },
  {
   "cell_type": "markdown",
   "metadata": {
    "slideshow": {
     "slide_type": "slide"
    }
   },
   "source": [
    "## 2 - Operate the robotic gripper using gestures posed in front of a webcam"
   ]
  },
  {
   "cell_type": "markdown",
   "metadata": {},
   "source": [
    "### Packages"
   ]
  },
  {
   "cell_type": "code",
   "execution_count": 2,
   "metadata": {},
   "outputs": [
    {
     "name": "stdout",
     "output_type": "stream",
     "text": [
      "Populating the interactive namespace from numpy and matplotlib\n"
     ]
    },
    {
     "name": "stderr",
     "output_type": "stream",
     "text": [
      "Using TensorFlow backend.\n"
     ]
    }
   ],
   "source": [
    "%pylab inline \n",
    "import cv2\n",
    "from IPython.display import clear_output\n",
    "import time\n",
    "from datetime import datetime\n",
    "import os\n",
    "import numpy as np\n",
    "import shutil\n",
    "import serial\n",
    "from keras.models import load_model\n",
    "import utils"
   ]
  },
  {
   "cell_type": "markdown",
   "metadata": {},
   "source": [
    "The function **start_operation** generates commands and send them to the Arduino board, via USB.\n",
    "It has a logical parameter named **check_predictions_only**, that is false by default. If it is passed with true value, the function does it work jumping all Arduino comunnication. This is just to allow testing the result of a model without the need of assembling the robotic grip part of the project."
   ]
  },
  {
   "cell_type": "code",
   "execution_count": 3,
   "metadata": {},
   "outputs": [],
   "source": [
    "def startOperation(model, check_predictions_only = False):\n",
    "    if not check_predictions_only:\n",
    "        #start serial\n",
    "        arduinoSerial= serial.Serial('/dev/ttyACM0', 9600, timeout=1)\n",
    "        print('Serial connection: ', arduinoSerial.name)\n",
    "    else:\n",
    "        arduinoSerial= None\n",
    "    # variables to define play warning sound\n",
    "    frequency = 100 # Hertz\n",
    "    duration  = 50 # milliseconds\n",
    "    gesture_code = ' '\n",
    "    #using webcam 0.\n",
    "    #in some systems webcam may be under different numbers, i.e, 1 or 2 or 3 ...\n",
    "    vid = cv2.VideoCapture(0)\n",
    "    start_time = time.time()\n",
    "    try:\n",
    "        while True:\n",
    "            # Capture frame-by-frame\n",
    "            ret, frame = vid.read()\n",
    "            if not ret:\n",
    "                # Release the Video Device if ret is false\n",
    "                vid.release()\n",
    "                # Message to be displayed after releasing the device\n",
    "                print(\"Released Video Resource due to capture fail!\")\n",
    "                break\n",
    "            # Convert the image from OpenCV BGR format to matplotlib RGB format\n",
    "            # to display the image\n",
    "            frame = cv2.cvtColor(frame, cv2.COLOR_BGR2RGB)\n",
    "            # check if it is time to save frame to a file\n",
    "            elapsed_time = time.time() - start_time\n",
    "            if elapsed_time > 2:\n",
    "                # make sound to indicate action\n",
    "                os.system('play -n synth %s sin %s' % (duration/1000, frequency))\n",
    "                # predict\n",
    "                gesture_label = predict(model, arduinoSerial, frame, check_predictions_only)\n",
    "                #restart the timer\n",
    "                start_time = time.time()\n",
    "            # Turn off the axis\n",
    "            axis('off')\n",
    "            # Title of the window\n",
    "            title(\"Gripper Gesture: (pred: \" + gesture_label + ')')\n",
    "            # Display the frame\n",
    "            imshow(frame)\n",
    "            show()\n",
    "            # Display the frame until new frame is available\n",
    "            clear_output(wait=True)\n",
    "    except KeyboardInterrupt:\n",
    "        # Message to be displayed after releasing the device\n",
    "        print(\"keyboard interrupted!\")\n",
    "    # Release the Video Device\n",
    "    vid.release()"
   ]
  },
  {
   "cell_type": "code",
   "execution_count": 4,
   "metadata": {},
   "outputs": [],
   "source": [
    "def predict(model, arduinoSerial, frame, check_predictions_only = False):\n",
    "    # The current frame of gesture\n",
    "    gesture_code = ' '\n",
    "    gesture_label = ' '\n",
    "    labels = ['nothing', 'left', 'right', 'grip', 'loose', 'foward', 'back', 'up', 'down']\n",
    "    rlabels = ['n', 'l', 'r', 'g', 'o', 'f', 'b', 'u', 'd']\n",
    "    try:\n",
    "        frame = utils.preprocess(frame) # apply the preprocessing\n",
    "        frame = np.array([frame])       # the model expects 4D array\n",
    "        # predict the gesture\n",
    "        #gesture = float(model.predict(frame, batch_size=1))\n",
    "        gesture = np.argmax(model.predict(frame, batch_size=1))\n",
    "        #if(gesture <= 0.8):\n",
    "        #    gesture_code = 'n';\n",
    "        #elif(gesture <= 1.8):\n",
    "        #    gesture_code = 'l';\n",
    "        #elif(gesture <= 2.8):\n",
    "        #    gesture_code = 'r';\n",
    "        #elif(gesture <= 3.8):\n",
    "        #    gesture_code = 'g';\n",
    "        #elif(gesture <= 4.8):\n",
    "        #    gesture_code = 'o';\n",
    "        #elif(gesture <= 5.8):\n",
    "        #    gesture_code = 'f';\n",
    "        #elif(gesture <= 6.8):\n",
    "        #    gesture_code = 'b';\n",
    "        #elif(gesture <= 7.8):\n",
    "        #    gesture_code = 'u';\n",
    "        #elif(gesture <= 8.8):\n",
    "        #    gesture_code = 'd';\n",
    "        #if(gesture != ' '):\n",
    "        if(0>= gesture <=8):\n",
    "            gesture_code = rlables[gesture]\n",
    "            gesture_label = lables[gesture]\n",
    "            if not check_predictions_only:\n",
    "                arduinoSerial.write(bytes(gesture_code, 'utf-8'))\n",
    "                time.sleep(.02)\n",
    "    except Exception as e:\n",
    "        print(e)\n",
    "    return gesture_code"
   ]
  },
  {
   "cell_type": "markdown",
   "metadata": {},
   "source": [
    "Let's load the model we want to use for recognize the gestures. Remember, usually a bigger the number on the name of a model file indicates that it's minimization was better than the previous ones, so you better choose the higher number file to use."
   ]
  },
  {
   "cell_type": "code",
   "execution_count": 5,
   "metadata": {},
   "outputs": [],
   "source": [
    "# change the model_file to the model you wish to load,\n",
    "# probably the one with the highest index number after trainning\n",
    "model_file = 'model-000.h5'\n",
    "model = load_model(model_file)"
   ]
  },
  {
   "cell_type": "markdown",
   "metadata": {},
   "source": [
    "Finally it is time to run the project, and control the robotic gripper.\n",
    "Due to a limitation on jupyter notebooks IPhython, when a cell is running, we can't interact with it via keyboard.\n",
    "So, to interrupt a running sell one should press **Kernel** on notebook menu, and then press Interrupt."
   ]
  },
  {
   "cell_type": "code",
   "execution_count": 6,
   "metadata": {},
   "outputs": [
    {
     "ename": "UnboundLocalError",
     "evalue": "local variable 'gesture_label' referenced before assignment",
     "output_type": "error",
     "traceback": [
      "\u001b[0;31m---------------------------------------------------------------------------\u001b[0m",
      "\u001b[0;31mUnboundLocalError\u001b[0m                         Traceback (most recent call last)",
      "\u001b[0;32m<ipython-input-6-87e9bbd5119f>\u001b[0m in \u001b[0;36m<module>\u001b[0;34m()\u001b[0m\n\u001b[0;32m----> 1\u001b[0;31m \u001b[0mstartOperation\u001b[0m\u001b[0;34m(\u001b[0m\u001b[0mmodel\u001b[0m\u001b[0;34m,\u001b[0m \u001b[0;32mTrue\u001b[0m\u001b[0;34m)\u001b[0m\u001b[0;34m\u001b[0m\u001b[0m\n\u001b[0m",
      "\u001b[0;32m<ipython-input-3-c1a228897126>\u001b[0m in \u001b[0;36mstartOperation\u001b[0;34m(model, check_predictions_only)\u001b[0m\n\u001b[1;32m     39\u001b[0m             \u001b[0maxis\u001b[0m\u001b[0;34m(\u001b[0m\u001b[0;34m'off'\u001b[0m\u001b[0;34m)\u001b[0m\u001b[0;34m\u001b[0m\u001b[0m\n\u001b[1;32m     40\u001b[0m             \u001b[0;31m# Title of the window\u001b[0m\u001b[0;34m\u001b[0m\u001b[0;34m\u001b[0m\u001b[0m\n\u001b[0;32m---> 41\u001b[0;31m             \u001b[0mtitle\u001b[0m\u001b[0;34m(\u001b[0m\u001b[0;34m\"Gripper Gesture: (pred: \"\u001b[0m \u001b[0;34m+\u001b[0m \u001b[0mgesture_label\u001b[0m \u001b[0;34m+\u001b[0m \u001b[0;34m')'\u001b[0m\u001b[0;34m)\u001b[0m\u001b[0;34m\u001b[0m\u001b[0m\n\u001b[0m\u001b[1;32m     42\u001b[0m             \u001b[0;31m# Display the frame\u001b[0m\u001b[0;34m\u001b[0m\u001b[0;34m\u001b[0m\u001b[0m\n\u001b[1;32m     43\u001b[0m             \u001b[0mimshow\u001b[0m\u001b[0;34m(\u001b[0m\u001b[0mframe\u001b[0m\u001b[0;34m)\u001b[0m\u001b[0;34m\u001b[0m\u001b[0m\n",
      "\u001b[0;31mUnboundLocalError\u001b[0m: local variable 'gesture_label' referenced before assignment"
     ]
    },
    {
     "data": {
      "image/png": "[encoded data removed]",
      "text/plain": [
       "<matplotlib.figure.Figure at 0x7f794af9e908>"
      ]
     },
     "metadata": {},
     "output_type": "display_data"
    }
   ],
   "source": [
    "startOperation(model, True)"
   ]
  },
  {
   "cell_type": "markdown",
   "metadata": {},
   "source": [
    "This is the end of this notebook.\n",
    "It is the last phase of the project as well.\n",
    "I hope it worked for you, or at least become usefull in some way."
   ]
  },
  {
   "cell_type": "markdown",
   "metadata": {},
   "source": [
    "by Duodecimo, 2017, Dezember."
   ]
  }
 ],
 "metadata": {
  "kernelspec": {
   "display_name": "Python 3",
   "language": "python",
   "name": "python3"
  },
  "language_info": {
   "codemirror_mode": {
    "name": "ipython",
    "version": 3
   },
   "file_extension": ".py",
   "mimetype": "text/x-python",
   "name": "python",
   "nbconvert_exporter": "python",
   "pygments_lexer": "ipython3",
   "version": "3.5.2"
  },
  "widgets": {
   "state": {},
   "version": "1.1.2"
  }
 },
 "nbformat": 4,
 "nbformat_minor": 2
}
