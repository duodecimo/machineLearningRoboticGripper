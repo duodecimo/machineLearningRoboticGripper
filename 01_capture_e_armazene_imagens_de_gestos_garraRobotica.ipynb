{
 "cells": [
  {
   "cell_type": "markdown",
   "metadata": {},
   "source": [
    "# GARRA ROBÓTICA\n",
    "\n",
    "## Uma garra robótica operada por gestos aprendidos utilizando aprendizagem profunda\n",
    "\n",
    "## Fase 1 Implementação: Capturando e salvando gestos rotulados"
   ]
  },
  {
   "cell_type": "markdown",
   "metadata": {},
   "source": [
    "Este projeto permite aos usuários controlar uma garra robótica utilizando gestos mostrados a uma câmera web."
   ]
  },
  {
   "cell_type": "markdown",
   "metadata": {},
   "source": [
    "## 1 - Como funciona\n",
    "\n",
    "O projeto é dividido em 3 fases, contidas em 3 cadernos jupyter, para atender os requisitos de usuário:\n",
    "\n",
    "- Fase 1: Imagens devem ser capturadas com uma câmera web para compor um conjunto de gestos rotulados.\n",
    "  O conjunto vai alimentar os conjuntos de treino e teste a serem utilizados em aprendizagem supervisionada.\n",
    "    \n",
    "- Fase 2: Um modelo de aprendizagem profunda, básicamente uma rede neural, será craido em utilizadopara treinar o reconhecimento de gestos, utilizando keras e tensorflow.\n",
    "    \n",
    "- Fase 3: Um programa será utilizado para ir capturando imagens de uma câmera web sequencialmente. As imagens serao classificadas utilizando o medelo treinado na Fase 2, e o resultado será utilizado para operar a garra robótica.\n",
    "  \n",
    "**Este caderno implementa a Fase 1 do pojeto. Existem outros dois cadernos a serem executados após este.**"
   ]
  },
  {
   "cell_type": "code",
   "execution_count": null,
   "metadata": {},
   "outputs": [],
   "source": [
    "%load_ext autoreload\n",
    "%autoreload 2"
   ]
  },
  {
   "cell_type": "markdown",
   "metadata": {},
   "source": [
    "## 2 - Capturando imagens de gestos rotulados\n",
    "\n",
    "As imagens serão capturadas da câmera web.\n",
    "Uma pasta com o nome **capture** vai possuir várias subpastas.\n",
    "As subpastas terão nomes significativos, como  **left** (esquerda), **right** (direita), e assim por diante.\n",
    "A subpasta nomeada **left** vai conter imagens do gesto que lança o comando **turn to the left** (gire para a esquerda).\n",
    "A idéia é que os nomes das subpastas vão se tornar os valores das assertivas verdadeiras dos conjuntos para o processo de aprendizagem de máquina.\n",
    "\n",
    "Para controlar a garra robótica, vamos utilizar nove comandos:\n",
    "    1. nothing (nada)\n",
    "    2. left (esquerda)\n",
    "    3. right (direita)\n",
    "    4. up (cima)\n",
    "    5. down (baixo)\n",
    "    6. foward (frente)\n",
    "    7. back (atrás)\n",
    "    8. grip (pegar)\n",
    "    9. loose (largar)\n",
    "    \n",
    "Alguns exemplos de imagens:\n",
    "\n",
    "<TABLE>\n",
    "    <CENTER>\n",
    "    <TR>\n",
    "      <TD>\n",
    "          <img src=\"images/nothing.jpg\" width=\"128\" height=\"96\" />\n",
    "      </TD>\n",
    "      <TD>\n",
    "          <img src=\"images/left.jpg\" width=\"128\" height=\"96\" />\n",
    "      </TD>\n",
    "      <TD>\n",
    "          <img src=\"images/right.jpg\" width=\"128\" height=\"96\" />\n",
    "      </TD>\n",
    "      <TD>\n",
    "          <img src=\"images/grip.jpg\" width=\"128\" height=\"96\" />\n",
    "      </TD>\n",
    "      <TD>\n",
    "          <img src=\"images/loose.jpg\" width=\"128\" height=\"96\" />\n",
    "      </TD>\n",
    "    </TR>\n",
    "    <TR>\n",
    "      <TD>\n",
    "          nothing (nada)\n",
    "      </TD>\n",
    "      <TD>\n",
    "          left (esqueda)\n",
    "      </TD>\n",
    "      <TD>\n",
    "          right (direita)\n",
    "      </TD>\n",
    "      <TD>\n",
    "          grip (pegar)\n",
    "      </TD>\n",
    "      <TD>\n",
    "          loose (largar)\n",
    "      </TD>\n",
    "    </TR>\n",
    "    <TR>\n",
    "      <TD>\n",
    "          <img src=\"images/foward.jpg\" width=\"128\" height=\"96\" />\n",
    "      </TD>\n",
    "      <TD>\n",
    "          <img src=\"images/back.jpg\" width=\"128\" height=\"96\" />\n",
    "      </TD>\n",
    "      <TD>\n",
    "          <img src=\"images/up.jpg\" width=\"128\" height=\"96\" />\n",
    "      </TD>\n",
    "      <TD>\n",
    "          <img src=\"images/down.jpg\" width=\"128\" height=\"96\" />\n",
    "      </TD>\n",
    "    </TR>\n",
    "    <TR>\n",
    "      <TD>\n",
    "          foward (frente)\n",
    "      </TD>\n",
    "      <TD>\n",
    "          back (atrás)\n",
    "      </TD>\n",
    "      <TD>\n",
    "          up (cima)\n",
    "      </TD>\n",
    "      <TD>\n",
    "          down (baixo)\n",
    "      </TD>\n",
    "    </TR>\n",
    "    </CENTER>\n",
    "</TABLE>"
   ]
  },
  {
   "cell_type": "markdown",
   "metadata": {},
   "source": [
    "### Packages (pacotes)"
   ]
  },
  {
   "cell_type": "code",
   "execution_count": null,
   "metadata": {},
   "outputs": [],
   "source": [
    "%pylab inline \n",
    "import cv2\n",
    "from IPython.display import clear_output\n",
    "import time\n",
    "from datetime import datetime\n",
    "import os\n",
    "import numpy as np"
   ]
  },
  {
   "cell_type": "markdown",
   "metadata": {},
   "source": [
    "A função **start_webcam_capture** recebe dois parametros, **path** e **number_of_captures** (10 por padrão).\n",
    "  -  **path**: determina aonde em sua midia as imagens capturadas serão armazenadas, i.e., path = 'capture/left', onde a subpasta 'left' armazena os gestos rotulados 'left'.\n",
    "  -  **number_of_captures**: é o número de imagens a serem capturadas e salvas.\n",
    "  - Pode-se interromper o kernel do caderno a fim de parar o código rodando  na célula atual, mas frequentemente essa ação danifica a memória geral do caderno, e então é preciso usar o menu principal na sequência **menu> Kernel> Restart & Clear Output**, e então rodar todas as células (ctrl + enter) desde o início. As imagens capturadas antes da interrupção permanecem salvas, e como 'timestamps'são utilizados para garantir unicidade no nome dos arquivos, eles não serão sobrescritos. Na verdade, a função pode ser chamada quantas vezes desejar-se, até obter a quantidade de imagens desejadas. Pode-se também, utilizando um navegador de arquivos, inspecionar as imagens capturadas e manualmente excluir algumas por ventura indesejadas.\n",
    "  -  **return**: (retorno) Ao final a função informa quantas imagens estão armazenadas no 'path'."
   ]
  },
  {
   "cell_type": "code",
   "execution_count": null,
   "metadata": {},
   "outputs": [],
   "source": [
    "\"\"\"\n",
    "    function  start_webcam_capture\n",
    "    parameters:\n",
    "    path - O caminho onde as imagens capturadas serão salvas (o nome da última pasta é usado no futuro para rotular as imagens)\n",
    "    number_of_captures - o numero de imagens a serem capturadas a cada execução da função.\n",
    "\"\"\"\n",
    "def start_webcam_capture(path, number_of_captures=10):\n",
    "    # variáves para definir detalhes do som de aviso da captura (é nescessário que o programa play esteja instalado no s.o.)\n",
    "    frequency = 100 # Hertz\n",
    "    duration  = 50 # milliseconds\n",
    "    #vamos garantir que o 'path' exista!\n",
    "    if not os.access(path, os.F_OK):\n",
    "        os.makedirs(path)\n",
    "    count_captures = 0\n",
    "    #utilizando a câmera web 0.\n",
    "    #em alguns sistemas a câmera desejada pode estar em diferentes numeros, i.e, 1 ou 2 ou 3 ...\n",
    "    ######## câmera a utilizar ############\n",
    "    vid = cv2.VideoCapture(0)\n",
    "    #######################################\n",
    "    start_time = time.time()\n",
    "    try:\n",
    "        while(count_captures<number_of_captures):\n",
    "            # Captura quadro-a-quadro\n",
    "            ret, frame = vid.read()\n",
    "            if not ret:\n",
    "                # Liberar o dispositivo de vídeo (Video Device) se ret for falso\n",
    "                vid.release()\n",
    "                # Mensagem a ser mostrada após liberar o dispositivo de vídeo\n",
    "                print(\"Recurso de vídeo liberado devido a falha na captura, verifique sua câmera e tente de novo!\")\n",
    "                break\n",
    "            # Converter a imagem de formato OpenCV BGR para formato matplotlib RGB\n",
    "            # para poder mostrar a imagem na tela\n",
    "            frame = cv2.cvtColor(frame, cv2.COLOR_BGR2RGB)\n",
    "            # verificar se é hora de salvar um quadro em um arquivo (ex.: a cada 4 segundos)\n",
    "            elapsed_time = time.time() - start_time\n",
    "            if elapsed_time > 4:\n",
    "                # tocar som para indicar a ação\n",
    "                os.system('play -n synth %s sin %s' % (duration/1000, frequency))\n",
    "                timestamp = datetime.utcnow().strftime('%Y_%m_%d_%H_%M_%S_%f')[:-3]\n",
    "                timestamp = timestamp + '.jpg'\n",
    "                image_filename = os.path.join(path, timestamp)\n",
    "                #print(image_filename)\n",
    "                cv2.imwrite(image_filename, frame)\n",
    "                #incrementar count_captures\n",
    "                count_captures += 1\n",
    "                #reiniciar o timer\n",
    "                start_time = time.time()\n",
    "            # verificar se a tecla ESC foi acionada\n",
    "            key = np.int16(cv2.waitKey(1))\n",
    "            if key == 27:\n",
    "                print(\"Esc key interrupted!\")\n",
    "                break  # esc para parar, mas, ATT: NÃO FUNCIONA EM CADERNO JUPYTER :(\n",
    "            # esconde os eixos (axis)\n",
    "            axis('off')\n",
    "            # Titulo da janela\n",
    "            title(\"Captura de Gestos para a Garra Robótica\")\n",
    "            # Mostra o quadro\n",
    "            imshow(frame)\n",
    "            show()\n",
    "            # Permanece mostrando até novo quadro estar disponível\n",
    "            clear_output(wait=True)\n",
    "    except KeyboardInterrupt:\n",
    "        # Mensagem a ser exibida após liberar o dispositivo\n",
    "        print(\"keyboard interrupted!\")\n",
    "    # Liberar o dispositivo\n",
    "    vid.release()\n",
    "    print(\"Liberado o dispositivo de video\")\n",
    "    path, dirs, files = os.walk(path).__next__()\n",
    "    file_count = len(files)\n",
    "    print('Existem agora ', file_count, ' imagens em ', path)\n"
   ]
  },
  {
   "cell_type": "markdown",
   "metadata": {},
   "source": [
    "Vamos iniciar a captura de gestos para **nothing** (nada).\n",
    "Vamos executar a função com os valores de parâmetros desejados."
   ]
  },
  {
   "cell_type": "code",
   "execution_count": null,
   "metadata": {},
   "outputs": [],
   "source": [
    "path = 'capture/nothing'\n",
    "#inicia a captura das imagens de gestos\n",
    "start_webcam_capture(path)"
   ]
  },
  {
   "cell_type": "markdown",
   "metadata": {},
   "source": [
    "Vamos capturar gestos para **left** (esquerda)."
   ]
  },
  {
   "cell_type": "code",
   "execution_count": null,
   "metadata": {},
   "outputs": [],
   "source": [
    "path = 'capture/left'\n",
    "#inicia a captura das imagens de gestos\n",
    "start_webcam_capture(path)"
   ]
  },
  {
   "cell_type": "markdown",
   "metadata": {},
   "source": [
    "Vamos capturar gestos para **right** (direita)."
   ]
  },
  {
   "cell_type": "code",
   "execution_count": null,
   "metadata": {},
   "outputs": [],
   "source": [
    "path = 'capture/right'\n",
    "#inicia a captura das imagens de gestos\n",
    "start_webcam_capture(path)"
   ]
  },
  {
   "cell_type": "markdown",
   "metadata": {},
   "source": [
    "Vamos capturar gestos para **up** (cima)."
   ]
  },
  {
   "cell_type": "code",
   "execution_count": null,
   "metadata": {},
   "outputs": [],
   "source": [
    "path = 'capture/up'\n",
    "#inicia a captura das imagens de gestos\n",
    "start_webcam_capture(path)"
   ]
  },
  {
   "cell_type": "markdown",
   "metadata": {},
   "source": [
    "Vamos capturar gestos para **down** (baixo)."
   ]
  },
  {
   "cell_type": "code",
   "execution_count": null,
   "metadata": {},
   "outputs": [],
   "source": [
    "path = 'capture/down'\n",
    "#inicia a captura das imagens de gestos\n",
    "start_webcam_capture(path)"
   ]
  },
  {
   "cell_type": "markdown",
   "metadata": {},
   "source": [
    "Vamos capturar gestos para **foward** (frente)."
   ]
  },
  {
   "cell_type": "code",
   "execution_count": null,
   "metadata": {},
   "outputs": [],
   "source": [
    "path = 'capture/foward'\n",
    "#inicia a captura das imagens de gestos\n",
    "start_webcam_capture(path)"
   ]
  },
  {
   "cell_type": "markdown",
   "metadata": {},
   "source": [
    "Vamos capturar gestos para **back** (atrás)."
   ]
  },
  {
   "cell_type": "code",
   "execution_count": null,
   "metadata": {},
   "outputs": [],
   "source": [
    "path = 'capture/back'\n",
    "#inicia a captura das imagens de gestos\n",
    "start_webcam_capture(path)"
   ]
  },
  {
   "cell_type": "markdown",
   "metadata": {},
   "source": [
    "Vamos capturar gestos para **grip** (segurar)."
   ]
  },
  {
   "cell_type": "code",
   "execution_count": null,
   "metadata": {},
   "outputs": [],
   "source": [
    "path = 'capture/grip'\n",
    "#inicia a captura das imagens de gestos\n",
    "start_webcam_capture(path)"
   ]
  },
  {
   "cell_type": "markdown",
   "metadata": {},
   "source": [
    "Vamos capturar gestos para **loose** (largar)."
   ]
  },
  {
   "cell_type": "code",
   "execution_count": null,
   "metadata": {},
   "outputs": [],
   "source": [
    "path = 'capture/loose'\n",
    "#inicia a captura das imagens de gestos\n",
    "start_webcam_capture(path)"
   ]
  },
  {
   "cell_type": "markdown",
   "metadata": {},
   "source": [
    "Aquí termina este caderno.\n",
    "Agora deve existir em seu caminho de captura 9 subpastas (nothing, left, right, up, down, foward, back, grip and loose), cada uma com várias imagens.\n",
    "Em seguida, desejamos construir e treinar um modelo para reconhecer gestos, utilizando os dados obtidos.\n",
    "Esta vai ser a tarefa do próximo caderno, **02_treinado_o_modelo_garraRobotica**."
   ]
  },
  {
   "cell_type": "markdown",
   "metadata": {},
   "source": [
    "by Duodecimo, 2017, Dezembro."
   ]
  }
 ],
 "metadata": {
  "kernelspec": {
   "display_name": "Python 3",
   "language": "python",
   "name": "python3"
  },
  "language_info": {
   "codemirror_mode": {
    "name": "ipython",
    "version": 3
   },
   "file_extension": ".py",
   "mimetype": "text/x-python",
   "name": "python",
   "nbconvert_exporter": "python",
   "pygments_lexer": "ipython3",
   "version": "3.5.2"
  },
  "widgets": {
   "state": {},
   "version": "1.1.2"
  }
 },
 "nbformat": 4,
 "nbformat_minor": 2
}
