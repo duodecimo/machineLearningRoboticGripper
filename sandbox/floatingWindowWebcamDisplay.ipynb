{
 "cells": [
  {
   "cell_type": "code",
   "execution_count": 13,
   "metadata": {},
   "outputs": [
    {
     "name": "stdout",
     "output_type": "stream",
     "text": [
      "All done!\n"
     ]
    }
   ],
   "source": [
    "#Import required modules\n",
    "import cv2\n",
    "import pyautogui\n",
    "\n",
    "cv2.namedWindow(\"webcam\")\n",
    "cv2.moveWindow(\"webcam\", 150, 150)\n",
    "\n",
    "once = True\n",
    "\n",
    "vc = cv2.VideoCapture(0)\n",
    "\n",
    "if vc.isOpened(): # try to get the first frame\n",
    "    rval, frame = vc.read()\n",
    "else:\n",
    "    rval = False\n",
    "while rval:\n",
    "    try:\n",
    "        cv2.imshow(\"webcam\", frame)\n",
    "        rval, frame = vc.read()\n",
    "        if cv2.waitKey(1) & 0xFF == ord('q'): # exit on ESC\n",
    "            break\n",
    "    except:\n",
    "        break\n",
    "    if once:\n",
    "        pyautogui.keyDown(\"alt\")\n",
    "        pyautogui.press(\"tab\")\n",
    "        pyautogui.keyUp(\"alt\")\n",
    "        once = False\n",
    "\n",
    "vc.release()\n",
    "cv2.destroyWindow(\"webcam\")\n",
    "for i in range (1,10):\n",
    "    cv2.waitKey(1)\n",
    "print('All done, man!')\n"
   ]
  }
 ],
 "metadata": {
  "kernelspec": {
   "display_name": "Python 3",
   "language": "python",
   "name": "python3"
  },
  "language_info": {
   "codemirror_mode": {
    "name": "ipython",
    "version": 3
   },
   "file_extension": ".py",
   "mimetype": "text/x-python",
   "name": "python",
   "nbconvert_exporter": "python",
   "pygments_lexer": "ipython3",
   "version": "3.5.2"
  },
  "widgets": {
   "state": {},
   "version": "1.1.2"
  }
 },
 "nbformat": 4,
 "nbformat_minor": 2
}
